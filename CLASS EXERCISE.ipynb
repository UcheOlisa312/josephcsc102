{
 "cells": [
  {
   "cell_type": "markdown",
   "metadata": {},
   "source": [
    "# Question 1\n"
   ]
  },
  {
   "cell_type": "code",
   "execution_count": 41,
   "metadata": {},
   "outputs": [
    {
     "name": "stdout",
     "output_type": "stream",
     "text": [
      "are you sure? no\n"
     ]
    },
    {
     "data": {
      "text/plain": [
       "'shutdown aborted'"
      ]
     },
     "execution_count": 41,
     "metadata": {},
     "output_type": "execute_result"
    }
   ],
   "source": [
    "def shut_down(insert):\n",
    "    if insert ==\"yes\":\n",
    "        return \"shutting down\"\n",
    "    elif insert == \"no\":\n",
    "        return \"shutdown aborted\"\n",
    "    else:\n",
    "        return \"Sorry, such argument is not welcome\"\n",
    "    \n",
    "insert = input(\"are you sure? \", )\n",
    "shut_down(insert)\n",
    "\n",
    "\n",
    "    "
   ]
  },
  {
   "cell_type": "markdown",
   "metadata": {},
   "source": [
    "#  Question 2\n",
    "    "
   ]
  },
  {
   "cell_type": "code",
   "execution_count": 3,
   "metadata": {},
   "outputs": [
    {
     "name": "stdout",
     "output_type": "stream",
     "text": [
      "Type in name of employee: eklvin\n",
      "Type in amount to be paid to employee: 67\n",
      "eklvin\n",
      "67\n",
      "Type in name of employee: joelo\n",
      "Type in amount to be paid to employee: 567\n",
      "joelo\n",
      "567\n",
      "Type in name of employee: hut\n",
      "Type in amount to be paid to employee: 65768\n",
      "hut\n",
      "65768\n"
     ]
    }
   ],
   "source": [
    "\n",
    "for i in range(3):\n",
    "    Name = input(\"Type in name of employee: \", )\n",
    "    Salary = input(\"Type in amount to be paid to employee: \", )\n",
    "    print(Name)\n",
    "    print(Salary)"
   ]
  },
  {
   "cell_type": "markdown",
   "metadata": {},
   "source": [
    "# Question 3"
   ]
  },
  {
   "cell_type": "code",
   "execution_count": null,
   "metadata": {},
   "outputs": [],
   "source": []
  },
  {
   "cell_type": "code",
   "execution_count": null,
   "metadata": {},
   "outputs": [],
   "source": [
    "def cube(number):\n",
    "    z = number**3\n",
    "    print(z)\n",
    "    \n",
    "number=float(input(\"input number: \", ))\n",
    "cube(number)\n",
    "\n",
    "def by_three(number):\n",
    "    if number%3==0:\n",
    "        result = cube(number)\n",
    "    else:\n",
    "        return false\n"
   ]
  },
  {
   "cell_type": "markdown",
   "metadata": {},
   "source": [
    "# Question 4"
   ]
  },
  {
   "cell_type": "code",
   "execution_count": 1,
   "metadata": {},
   "outputs": [
    {
     "name": "stdout",
     "output_type": "stream",
     "text": [
      "type in any word with uppercase and lowercase: bbsrbbwrntnw\n",
      "Number of uppercase letters:  0\n",
      "Number of lowercase letters:  12\n"
     ]
    }
   ],
   "source": [
    "def count_upper_lower(string):\n",
    "    lowercase_letter_count = 0\n",
    "    uppercase_letter_count = 0\n",
    "    \n",
    "    for letter in string:\n",
    "        if letter.isupper():\n",
    "            uppercase_letter_count += 1\n",
    "        elif letter.islower():\n",
    "            lowercase_letter_count += 1\n",
    "            \n",
    "    print (\"Number of uppercase letters: \", uppercase_letter_count)\n",
    "    print (\"Number of lowercase letters: \", lowercase_letter_count)\n",
    "    \n",
    "    \n",
    "count_upper_lower(input(\"type in any word with uppercase and lowercase: \",  ))"
   ]
  },
  {
   "cell_type": "code",
   "execution_count": null,
   "metadata": {},
   "outputs": [],
   "source": []
  },
  {
   "cell_type": "code",
   "execution_count": null,
   "metadata": {},
   "outputs": [],
   "source": []
  }
 ],
 "metadata": {
  "kernelspec": {
   "display_name": "Python 3",
   "language": "python",
   "name": "python3"
  },
  "language_info": {
   "codemirror_mode": {
    "name": "ipython",
    "version": 3
   },
   "file_extension": ".py",
   "mimetype": "text/x-python",
   "name": "python",
   "nbconvert_exporter": "python",
   "pygments_lexer": "ipython3",
   "version": "3.8.5"
  }
 },
 "nbformat": 4,
 "nbformat_minor": 4
}
