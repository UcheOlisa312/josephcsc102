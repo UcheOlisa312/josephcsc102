{
 "cells": [
  {
   "cell_type": "markdown",
   "metadata": {},
   "source": [
    "# `Using your algorithmic skills to problem solving' find the roots of the quadratic equation`:\n",
    "# 1) ax^2 +bx+c=0\n"
   ]
  },
  {
   "cell_type": "code",
   "execution_count": 1,
   "metadata": {},
   "outputs": [
    {
     "name": "stdout",
     "output_type": "stream",
     "text": [
      "Type in value for a 3\n",
      "Type in value for b 3\n",
      "Type in value for c 3\n",
      "x1 =  -24.75\n",
      "x2 =  15.75\n"
     ]
    }
   ],
   "source": [
    "a=float(input(\"Type in value for a \", ))\n",
    "b=float(input(\"Type in value for b \", ))\n",
    "c=float(input(\"Type in value for c \", ))\n",
    "z=((b**2)-(4*a*c))**1/2\n",
    "x1=(-b+z)/2*a\n",
    "x2=(-b-z)/2*a\n",
    "print(\"x1 = \", x1)\n",
    "print(\"x2 = \", x2)"
   ]
  },
  {
   "cell_type": "markdown",
   "metadata": {},
   "source": [
    "# 2) x^2 -5x +2 =0"
   ]
  },
  {
   "cell_type": "code",
   "execution_count": 4,
   "metadata": {},
   "outputs": [
    {
     "name": "stdout",
     "output_type": "stream",
     "text": [
      "x1 =  6.75\n",
      "x2 =  -1.75\n"
     ]
    }
   ],
   "source": [
    "a= 1\n",
    "b= -5\n",
    "c= 2\n",
    "z=((b**2)-(4*a*c))**1/2\n",
    "x1=(-b+z)/(2*a)\n",
    "x2=(-b-z)/2*a\n",
    "print(\"x1 = \", x1)\n",
    "print(\"x2 = \", x2)"
   ]
  },
  {
   "cell_type": "code",
   "execution_count": null,
   "metadata": {},
   "outputs": [],
   "source": []
  }
 ],
 "metadata": {
  "kernelspec": {
   "display_name": "Python 3",
   "language": "python",
   "name": "python3"
  },
  "language_info": {
   "codemirror_mode": {
    "name": "ipython",
    "version": 3
   },
   "file_extension": ".py",
   "mimetype": "text/x-python",
   "name": "python",
   "nbconvert_exporter": "python",
   "pygments_lexer": "ipython3",
   "version": "3.8.5"
  }
 },
 "nbformat": 4,
 "nbformat_minor": 4
}
