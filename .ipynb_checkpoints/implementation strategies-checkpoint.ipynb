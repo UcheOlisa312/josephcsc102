{
 "cells": [
  {
   "cell_type": "code",
   "execution_count": 1,
   "metadata": {},
   "outputs": [
    {
     "name": "stdout",
     "output_type": "stream",
     "text": [
      "10\n",
      "20\n",
      "30\n",
      "40\n",
      "50\n"
     ]
    }
   ],
   "source": [
    "#Print the given sequence of numbers using for loop\n",
    "count = [10,20,30,40,50]\n",
    "for num in count:\n",
    "    print(num)"
   ]
  },
  {
   "cell_type": "code",
   "execution_count": 2,
   "metadata": {},
   "outputs": [
    {
     "name": "stdout",
     "output_type": "stream",
     "text": [
      "10\n",
      "20\n",
      "30\n",
      "40\n"
     ]
    }
   ],
   "source": [
    "#Print multiples of 10 for numbers in a given range\n",
    "for num in range(5):\n",
    "    if num > 0:\n",
    "        print(num * 10)"
   ]
  },
  {
   "cell_type": "code",
   "execution_count": 3,
   "metadata": {},
   "outputs": [
    {
     "name": "stdout",
     "output_type": "stream",
     "text": [
      "1\n",
      "2\n",
      "3\n",
      "4\n",
      "5\n"
     ]
    }
   ],
   "source": [
    "#Print first 5  natural numbers using while loop\n",
    "count = 1\n",
    "while count <= 5:\n",
    "    print(count)\n",
    "    count += 1\n",
    "    "
   ]
  },
  {
   "cell_type": "code",
   "execution_count": 5,
   "metadata": {},
   "outputs": [
    {
     "name": "stdout",
     "output_type": "stream",
     "text": [
      "Enter numbers to find their sum,negative numbers ends the loop\n",
      "-1\n"
     ]
    }
   ],
   "source": [
    "entry = 0\n",
    "sum1 = 0\n",
    "print(\"Enter numbers to find their sum,negative numbers ends the loop\")\n",
    "while True:\n",
    "    #int() typecasts string to integer\n",
    "    entry = int(input())\n",
    "    if (entry < 0):\n",
    "        break\n",
    "        sum1 += entry\n",
    "        print(\"Sum =\", sum1)\n",
    "        "
   ]
  },
  {
   "cell_type": "code",
   "execution_count": 6,
   "metadata": {},
   "outputs": [
    {
     "name": "stdout",
     "output_type": "stream",
     "text": [
      "End of loop\n"
     ]
    }
   ],
   "source": [
    "num = 0\n",
    "for num in range(6):\n",
    "    num=num + 1\n",
    "    if num == 3:\n",
    "        continue\n",
    "        print('Num has value ' + str(num))\n",
    "print('End of loop')        "
   ]
  },
  {
   "cell_type": "code",
   "execution_count": 7,
   "metadata": {},
   "outputs": [
    {
     "name": "stdout",
     "output_type": "stream",
     "text": [
      "Iteration 1 of outer loop\n",
      "1\n",
      "2\n",
      "Out of inner loop\n",
      "Iteration 2 of outer loop\n",
      "1\n",
      "2\n",
      "Out of inner loop\n",
      "Iteration 3 of outer loop\n",
      "1\n",
      "2\n",
      "Out of inner loop\n",
      "Out of outer loop\n"
     ]
    }
   ],
   "source": [
    "for var1 in range(3):\n",
    "    print( \"Iteration \" + str(var1 +1) + \" of outer loop\")\n",
    "    for var2 in range(2):#nested loop\n",
    "        print(var2 + 1)\n",
    "    print(\"Out of inner loop\")\n",
    "print(\"Out of outer loop\")"
   ]
  },
  {
   "cell_type": "markdown",
   "metadata": {},
   "source": [
    "# `Exercise 1`"
   ]
  },
  {
   "cell_type": "code",
   "execution_count": 9,
   "metadata": {},
   "outputs": [
    {
     "name": "stdout",
     "output_type": "stream",
     "text": [
      "Enter a number to generate its pattern = 1\n",
      "1 \n"
     ]
    }
   ],
   "source": [
    "#The output pattern to be generated is\n",
    "#1\n",
    "#1 2\n",
    "#1 2 3 \n",
    "#1 2 3 4\n",
    "#1 2 3 4 5\n",
    "num = int(input(\"Enter a number to generate its pattern = \"))\n",
    "for i in range(1,num + 1):\n",
    "    for j in range(1,i + 1):\n",
    "        print(j,end = \" \")\n",
    "    print()"
   ]
  },
  {
   "cell_type": "code",
   "execution_count": 10,
   "metadata": {},
   "outputs": [
    {
     "name": "stdout",
     "output_type": "stream",
     "text": [
      "5 is aprime number\n",
      "7 is aprime number\n",
      "7 is aprime number\n",
      "11 is aprime number\n",
      "11 is aprime number\n",
      "11 is aprime number\n",
      "13 is aprime number\n",
      "13 is aprime number\n",
      "13 is aprime number\n",
      "13 is aprime number\n",
      "17 is aprime number\n",
      "17 is aprime number\n",
      "17 is aprime number\n",
      "17 is aprime number\n",
      "17 is aprime number\n",
      "19 is aprime number\n",
      "19 is aprime number\n",
      "19 is aprime number\n",
      "19 is aprime number\n",
      "19 is aprime number\n",
      "19 is aprime number\n",
      "23 is aprime number\n",
      "23 is aprime number\n",
      "23 is aprime number\n",
      "23 is aprime number\n",
      "23 is aprime number\n",
      "23 is aprime number\n",
      "23 is aprime number\n",
      "23 is aprime number\n",
      "29 is aprime number\n",
      "29 is aprime number\n",
      "29 is aprime number\n",
      "29 is aprime number\n",
      "29 is aprime number\n",
      "29 is aprime number\n",
      "29 is aprime number\n",
      "29 is aprime number\n",
      "29 is aprime number\n",
      "29 is aprime number\n",
      "31 is aprime number\n",
      "31 is aprime number\n",
      "31 is aprime number\n",
      "31 is aprime number\n",
      "31 is aprime number\n",
      "31 is aprime number\n",
      "31 is aprime number\n",
      "31 is aprime number\n",
      "31 is aprime number\n",
      "31 is aprime number\n",
      "31 is aprime number\n",
      "37 is aprime number\n",
      "37 is aprime number\n",
      "37 is aprime number\n",
      "37 is aprime number\n",
      "37 is aprime number\n",
      "37 is aprime number\n",
      "37 is aprime number\n",
      "37 is aprime number\n",
      "37 is aprime number\n",
      "37 is aprime number\n",
      "37 is aprime number\n",
      "37 is aprime number\n",
      "37 is aprime number\n",
      "41 is aprime number\n",
      "41 is aprime number\n",
      "41 is aprime number\n",
      "41 is aprime number\n",
      "41 is aprime number\n",
      "41 is aprime number\n",
      "41 is aprime number\n",
      "41 is aprime number\n",
      "41 is aprime number\n",
      "41 is aprime number\n",
      "41 is aprime number\n",
      "41 is aprime number\n",
      "41 is aprime number\n",
      "41 is aprime number\n",
      "41 is aprime number\n",
      "43 is aprime number\n",
      "43 is aprime number\n",
      "43 is aprime number\n",
      "43 is aprime number\n",
      "43 is aprime number\n",
      "43 is aprime number\n",
      "43 is aprime number\n",
      "43 is aprime number\n",
      "43 is aprime number\n",
      "43 is aprime number\n",
      "43 is aprime number\n",
      "43 is aprime number\n",
      "43 is aprime number\n",
      "43 is aprime number\n",
      "43 is aprime number\n",
      "43 is aprime number\n",
      "47 is aprime number\n",
      "47 is aprime number\n",
      "47 is aprime number\n",
      "47 is aprime number\n",
      "47 is aprime number\n",
      "47 is aprime number\n",
      "47 is aprime number\n",
      "47 is aprime number\n",
      "47 is aprime number\n",
      "47 is aprime number\n",
      "47 is aprime number\n",
      "47 is aprime number\n",
      "47 is aprime number\n",
      "47 is aprime number\n",
      "47 is aprime number\n",
      "47 is aprime number\n",
      "47 is aprime number\n",
      "47 is aprime number\n",
      "Bye Bye!!\n"
     ]
    }
   ],
   "source": [
    "#Use of nested loops to find the prime numbers between 2 to 50\n",
    "num = 2\n",
    "for i in range(2,50):\n",
    "    j= 2\n",
    "    while( j<= (i/2)):\n",
    "        if(i % j == 0): #factor found\n",
    "            break #break out of loop\n",
    "        j += 1\n",
    "        if (j > i/j) : #no factor found\n",
    "            print(i, \"is aprime number\")\n",
    "print (\"Bye Bye!!\")"
   ]
  },
  {
   "cell_type": "code",
   "execution_count": null,
   "metadata": {},
   "outputs": [],
   "source": []
  }
 ],
 "metadata": {
  "kernelspec": {
   "display_name": "Python 3",
   "language": "python",
   "name": "python3"
  },
  "language_info": {
   "codemirror_mode": {
    "name": "ipython",
    "version": 3
   },
   "file_extension": ".py",
   "mimetype": "text/x-python",
   "name": "python",
   "nbconvert_exporter": "python",
   "pygments_lexer": "ipython3",
   "version": "3.8.5"
  }
 },
 "nbformat": 4,
 "nbformat_minor": 4
}
